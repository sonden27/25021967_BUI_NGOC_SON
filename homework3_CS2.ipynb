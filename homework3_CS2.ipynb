{
 "cells": [
  {
   "cell_type": "code",
   "execution_count": null,
   "id": "568c465a",
   "metadata": {},
   "outputs": [],
   "source": [
    "#W3A2\n",
    "a,b=map(float,input().split())\n"
   ]
  }
 ],
 "metadata": {
  "language_info": {
   "name": "python"
  }
 },
 "nbformat": 4,
 "nbformat_minor": 5
}
