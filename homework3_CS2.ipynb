{
 "cells": [
  {
   "cell_type": "code",
   "execution_count": 2,
   "id": "568c465a",
   "metadata": {},
   "outputs": [
    {
     "name": "stdout",
     "output_type": "stream",
     "text": [
      "8\n",
      "7\n"
     ]
    }
   ],
   "source": [
    "#W3A2\n",
    "a,b=map(int,input().split())\n",
    "a^=b\n",
    "b^=a\n",
    "a^=b\n",
    "print(f'{a}\\n{b}')"
   ]
  },
  {
   "cell_type": "code",
   "execution_count": 3,
   "id": "d4efabad",
   "metadata": {},
   "outputs": [
    {
     "name": "stdout",
     "output_type": "stream",
     "text": [
      "False\n"
     ]
    }
   ],
   "source": [
    "#W3A3\n",
    "n=int(input())\n",
    "print(n&(n-1)==0)"
   ]
  },
  {
   "cell_type": "code",
   "execution_count": 3,
   "id": "b386afcd",
   "metadata": {},
   "outputs": [
    {
     "name": "stdout",
     "output_type": "stream",
     "text": [
      "0\n"
     ]
    }
   ],
   "source": [
    "#W3A4\n",
    "m,n=map(float,input().split())\n",
    "print(f'{int(m/n)}')"
   ]
  },
  {
   "cell_type": "code",
   "execution_count": 4,
   "id": "5b8c0b92",
   "metadata": {},
   "outputs": [
    {
     "name": "stdout",
     "output_type": "stream",
     "text": [
      "1\n"
     ]
    }
   ],
   "source": [
    "#W3A5\n",
    "m,n=map(float,input().split())\n",
    "print(f'{m/n:.0f}')\n"
   ]
  },
  {
   "cell_type": "code",
   "execution_count": 6,
   "id": "fcd7c5e3",
   "metadata": {},
   "outputs": [
    {
     "name": "stdout",
     "output_type": "stream",
     "text": [
      "Even\n"
     ]
    }
   ],
   "source": [
    "#W3A6\n",
    "x=int(input())\n",
    "print(\"Odd\" if x%2 else \"Even\")"
   ]
  },
  {
   "cell_type": "code",
   "execution_count": 9,
   "id": "7214b27b",
   "metadata": {},
   "outputs": [
    {
     "name": "stdout",
     "output_type": "stream",
     "text": [
      "False\n"
     ]
    }
   ],
   "source": [
    "#W3A7\n",
    "a,b=map(int,input().split())\n",
    "print(a<0 and b<0)"
   ]
  },
  {
   "cell_type": "code",
   "execution_count": 10,
   "id": "67559295",
   "metadata": {},
   "outputs": [
    {
     "name": "stdout",
     "output_type": "stream",
     "text": [
      "False\n"
     ]
    }
   ],
   "source": [
    "#W3A8\n",
    "a,b=map(str,input().split())\n",
    "print(len(a)>len(b))"
   ]
  },
  {
   "cell_type": "code",
   "execution_count": null,
   "id": "53618d9b",
   "metadata": {},
   "outputs": [],
   "source": [
    "#W3A9\n",
    "a,b,c=int(input())\n",
    "if(a+b>c and a+c>b and b+c>a):\n",
    "    print(\"Yes\")\n",
    "else:\n",
    "    print(\"No\")"
   ]
  },
  {
   "cell_type": "code",
   "execution_count": null,
   "id": "60704de3",
   "metadata": {},
   "outputs": [],
   "source": [
    "#3A10\n",
    "a,b,c,d=map(int,input().split())\n",
    "print(max(a,b,c,d))"
   ]
  },
  {
   "cell_type": "code",
   "execution_count": null,
   "id": "8025cd93",
   "metadata": {},
   "outputs": [],
   "source": [
    "#W3A11\n",
    "import math as skibidi\n",
    "a,b,c=map(float,input().split())\n",
    "if(a+b>c and b+c>a and a+c>b):\n",
    "    if(a==b==c):\n",
    "        print(f'Tam giac deu')\n",
    "    elif(a==b!=c or a==c!=b or b==c!=a):\n",
    "        print(f'Tam giac can')\n",
    "    else:\n",
    "        print(f'Tam giac thuong')\n",
    "    p=(a+b+c)/2\n",
    "    print(f'{p*2}\\n{skibidi.sqrt(p*(p-a)*(p-b)*(p-c))}')\n",
    "else:\n",
    "    print(f'Khong phai tam giac')"
   ]
  },
  {
   "cell_type": "code",
   "execution_count": 14,
   "id": "0fa46d6b",
   "metadata": {},
   "outputs": [
    {
     "name": "stdout",
     "output_type": "stream",
     "text": [
      "Yes\n"
     ]
    }
   ],
   "source": [
    "#W3A12\n",
    "n=int(input())\n",
    "if( (n%4==0 and n%100!=0) or n%400==0):\n",
    "    print(f'Yes')\n",
    "else:\n",
    "    print(f'No') "
   ]
  },
  {
   "cell_type": "code",
   "execution_count": null,
   "id": "68e8d2cf",
   "metadata": {},
   "outputs": [],
   "source": [
    "#W3A14\n",
    "a,b=map(float,input().split())\n",
    "if(a==0):\n",
    "    if(b==0):\n",
    "        print(f'Vo so nghiem')\n",
    "    else:\n",
    "        print(f'Vo nghiem')\n",
    "else:\n",
    "    print(f'{-b/a}')"
   ]
  },
  {
   "cell_type": "code",
   "execution_count": 15,
   "id": "31d833d9",
   "metadata": {},
   "outputs": [
    {
     "name": "stdout",
     "output_type": "stream",
     "text": [
      "Giỏi\n"
     ]
    }
   ],
   "source": [
    "#3A15\n",
    "x=float(input())\n",
    "if(x<5):\n",
    "    print(f'Yếu')\n",
    "elif(x<6.5):\n",
    "    print(f'Trung bình')\n",
    "elif(x<8):\n",
    "    print(f'Khá')\n",
    "else:\n",
    "    print(f'Giỏi')"
   ]
  },
  {
   "cell_type": "code",
   "execution_count": null,
   "id": "e305ae18",
   "metadata": {},
   "outputs": [
    {
     "name": "stdout",
     "output_type": "stream",
     "text": [
      "5 4\n"
     ]
    }
   ],
   "source": [
    "#3A16\n",
    "x=float(input())\n",
    "print(f'{x:.0f} {int(x)}')"
   ]
  },
  {
   "cell_type": "code",
   "execution_count": 21,
   "id": "c4a86da9",
   "metadata": {},
   "outputs": [
    {
     "name": "stdout",
     "output_type": "stream",
     "text": [
      "True\n"
     ]
    }
   ],
   "source": [
    "#3A17\n",
    "a,b,c,d=map(int,input().split())\n",
    "print(b/a==c/b==d/c)"
   ]
  }
 ],
 "metadata": {
  "kernelspec": {
   "display_name": "Python 3",
   "language": "python",
   "name": "python3"
  },
  "language_info": {
   "codemirror_mode": {
    "name": "ipython",
    "version": 3
   },
   "file_extension": ".py",
   "mimetype": "text/x-python",
   "name": "python",
   "nbconvert_exporter": "python",
   "pygments_lexer": "ipython3",
   "version": "3.13.7"
  }
 },
 "nbformat": 4,
 "nbformat_minor": 5
}
