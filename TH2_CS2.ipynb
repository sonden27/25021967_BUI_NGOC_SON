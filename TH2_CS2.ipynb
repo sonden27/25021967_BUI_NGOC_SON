{
 "cells": [
  {
   "cell_type": "code",
   "execution_count": 2,
   "id": "c7b06c6e",
   "metadata": {},
   "outputs": [
    {
     "name": "stdout",
     "output_type": "stream",
     "text": [
      "Hello World!\n"
     ]
    }
   ],
   "source": [
    "#W2A1\n",
    "print(\"Hello World!\")"
   ]
  },
  {
   "cell_type": "code",
   "execution_count": 4,
   "id": "4bb8ebb0",
   "metadata": {},
   "outputs": [
    {
     "name": "stdout",
     "output_type": "stream",
     "text": [
      "Xin Chào \n"
     ]
    }
   ],
   "source": [
    "#W2A2\n",
    "string=input(\"Nhập Họ và Tên của bạn:\")\n",
    "print(\"Xin Chào\",string)"
   ]
  },
  {
   "cell_type": "code",
   "execution_count": null,
   "id": "005dc6b7",
   "metadata": {},
   "outputs": [
    {
     "name": "stdout",
     "output_type": "stream",
     "text": [
      "36 + 120 = 156\n",
      "36 - 120 = -84\n",
      "36 * 120 = 4320\n",
      "36 // 120 = 0\n",
      "36 % 120 = 36\n",
      "36 / 120 = 0.3\n"
     ]
    }
   ],
   "source": [
    "#W2A3\n",
    "a,b=map(int,input().split())\n",
    "print(f'{a} + {b} = {a+b}')\n",
    "print(f'{a} - {b} = {a-b}')\n",
    "print(f'{a} * {b} = {a*b}')\n",
    "print(f'{a} // {b} = {a//b}')\n",
    "print(f'{a} % {b} = {a%b}')\n",
    "print(f'{a} / {b} = {a/b}')"
   ]
  },
  {
   "cell_type": "code",
   "execution_count": 22,
   "id": "6f9ceb51",
   "metadata": {},
   "outputs": [
    {
     "name": "stdout",
     "output_type": "stream",
     "text": [
      "9.1\n"
     ]
    }
   ],
   "source": [
    "#W2A4\n",
    "a1,b1,c1,a2,b2,a3=map(int,input().split())\n",
    "avr=(((a1+b1+c1)+(a2+b2)*2+a3*3)/10)\n",
    "print(f'{avr:.1f}')"
   ]
  },
  {
   "cell_type": "code",
   "execution_count": 24,
   "id": "1fcad460",
   "metadata": {},
   "outputs": [
    {
     "name": "stdout",
     "output_type": "stream",
     "text": [
      "8\n"
     ]
    }
   ],
   "source": [
    "#W2A5\n",
    "a,b=map(int,input().split())\n",
    "print(f'{a**b}')\n"
   ]
  },
  {
   "cell_type": "code",
   "execution_count": 36,
   "id": "4e85ef1d",
   "metadata": {},
   "outputs": [
    {
     "name": "stdout",
     "output_type": "stream",
     "text": [
      "a\n"
     ]
    }
   ],
   "source": [
    "#W2A6\n",
    "string=input()\n",
    "string=ord(string)+32\n",
    "print(chr(string))"
   ]
  },
  {
   "cell_type": "code",
   "execution_count": 4,
   "id": "4a84a392",
   "metadata": {},
   "outputs": [
    {
     "name": "stdout",
     "output_type": "stream",
     "text": [
      "512\n",
      "512\n"
     ]
    }
   ],
   "source": [
    "#W2A7\n",
    "A = ((13 ** 2) * 3) + 5\n",
    "B = 13**2*3 + 5\n",
    "print(f'{A}\\n{B}' )"
   ]
  },
  {
   "cell_type": "code",
   "execution_count": 9,
   "id": "94e56f22",
   "metadata": {},
   "outputs": [
    {
     "name": "stdout",
     "output_type": "stream",
     "text": [
      "95.90\n"
     ]
    }
   ],
   "source": [
    "#W2A8\n",
    "temp=float(input())\n",
    "temp=9/5*temp+32\n",
    "temp=round(temp,2)\n",
    "print(f'{temp:.2f}')"
   ]
  },
  {
   "cell_type": "code",
   "execution_count": 12,
   "id": "5e78b705",
   "metadata": {},
   "outputs": [
    {
     "name": "stdout",
     "output_type": "stream",
     "text": [
      "31.58\n"
     ]
    }
   ],
   "source": [
    "#W2A9\n",
    "x=float(input())\n",
    "res=(x+10)*1.4\n",
    "round(res,2)\n",
    "print(f'{res:.2f}')\n"
   ]
  },
  {
   "cell_type": "code",
   "execution_count": 15,
   "id": "40283cc4",
   "metadata": {},
   "outputs": [
    {
     "name": "stdout",
     "output_type": "stream",
     "text": [
      "Hi Bob, Alice and Helen.\n"
     ]
    }
   ],
   "source": [
    "#W2A10\n",
    "name1,name2,name3=map(str,input().split())\n",
    "print(f'Hi {name3}, {name2} and {name1}.')"
   ]
  },
  {
   "cell_type": "code",
   "execution_count": 17,
   "id": "393d1bc3",
   "metadata": {},
   "outputs": [
    {
     "name": "stdout",
     "output_type": "stream",
     "text": [
      "5400\n"
     ]
    }
   ],
   "source": [
    "#W2A11\n",
    "hrs,minute=map(int,input().split())\n",
    "print(f'{hrs*3600+minute*60}')"
   ]
  },
  {
   "cell_type": "code",
   "execution_count": 20,
   "id": "3873cf82",
   "metadata": {},
   "outputs": [
    {
     "name": "stdout",
     "output_type": "stream",
     "text": [
      "54\n"
     ]
    }
   ],
   "source": [
    "#W2A12\n",
    "x=int(input())\n",
    "print(f'{x*x*6}')"
   ]
  },
  {
   "cell_type": "code",
   "execution_count": 21,
   "id": "b613985a",
   "metadata": {},
   "outputs": [
    {
     "name": "stdout",
     "output_type": "stream",
     "text": [
      "6\n"
     ]
    }
   ],
   "source": [
    "#W2A13\n",
    "a,b=map(int,input().split())\n",
    "print(f'{a*b}')"
   ]
  },
  {
   "cell_type": "code",
   "execution_count": null,
   "id": "9a99f0f5",
   "metadata": {},
   "outputs": [
    {
     "name": "stdout",
     "output_type": "stream",
     "text": [
      "3\n",
      "2\n"
     ]
    }
   ],
   "source": [
    "#W2A14\n",
    "a,b=map(int,input().split())\n",
    "a,b=b,a\n",
    "print(f'{a}\\n{b}')"
   ]
  },
  {
   "cell_type": "code",
   "execution_count": 26,
   "id": "8a68ccfa",
   "metadata": {},
   "outputs": [
    {
     "name": "stdout",
     "output_type": "stream",
     "text": [
      "19\n"
     ]
    }
   ],
   "source": [
    "#W2A15\n",
    "n=int(input())\n",
    "print(f'{1+3*n*(n-1)}')"
   ]
  },
  {
   "cell_type": "code",
   "execution_count": null,
   "id": "d32f7a5d",
   "metadata": {},
   "outputs": [
    {
     "name": "stdout",
     "output_type": "stream",
     "text": [
      "Spring\n",
      "Summer\n",
      "Autumn\n",
      "Winter\n"
     ]
    }
   ],
   "source": [
    "#W2A16\n",
    "A=[\"Spring\",\"Summer\",\"Autumn\",\"Winter\"]\n",
    "for i in A:\n",
    "    print(i)"
   ]
  },
  {
   "cell_type": "code",
   "execution_count": null,
   "id": "ede6d992",
   "metadata": {},
   "outputs": [
    {
     "name": "stdout",
     "output_type": "stream",
     "text": [
      "*\n",
      "***\n",
      "*****\n"
     ]
    }
   ],
   "source": [
    "#W2A17\n",
    "for i in range(0,3):\n",
    "    print(\"*\"*(2*i+1))"
   ]
  },
  {
   "cell_type": "code",
   "execution_count": 63,
   "id": "583e8c15",
   "metadata": {},
   "outputs": [
    {
     "name": "stdout",
     "output_type": "stream",
     "text": [
      "###   # #     ###  ###\n",
      " #    #   #    #    #\n",
      " #    #    #   #    #\n",
      " #    #   #    #    #\n",
      " #    # #      #    #\n"
     ]
    }
   ],
   "source": [
    "#W2A18\n",
    "print(\"###   # #     ###  ###\",\" #    #   #    #    #\",\" #    #    #   #    #\",\" #    #   #    #    #\",\" #    # #      #    #\",sep='\\n')"
   ]
  },
  {
   "cell_type": "code",
   "execution_count": 65,
   "id": "1e7074d9",
   "metadata": {},
   "outputs": [
    {
     "name": "stdout",
     "output_type": "stream",
     "text": [
      "Monday\n",
      "Tuesday\n",
      "Wednesday\n",
      "Thursday\n",
      "Friday\n",
      "Saturday\n",
      "Sunday\n"
     ]
    }
   ],
   "source": [
    "#W2A19\n",
    "A=[\"Monday\",\"Tuesday\",\"Wednesday\",\"Thursday\",\"Friday\",\"Saturday\",\"Sunday\"]\n",
    "for i in A:\n",
    "    print(i)"
   ]
  },
  {
   "cell_type": "code",
   "execution_count": 67,
   "id": "dd7a3457",
   "metadata": {},
   "outputs": [
    {
     "name": "stdout",
     "output_type": "stream",
     "text": [
      "January\n",
      "February\n",
      "March\n",
      "April\n",
      "May\n",
      "June\n",
      "July\n",
      "August\n",
      "September\n"
     ]
    }
   ],
   "source": [
    "#W2A20\n",
    "A=[\"January\",\"February\",\"March\",\"April\",\"May\",\"June\",\"July\",\"August\",\"September\"]\n",
    "for i in A:\n",
    "    print(i)"
   ]
  },
  {
   "cell_type": "code",
   "execution_count": 69,
   "id": "4c2486b2",
   "metadata": {},
   "outputs": [
    {
     "name": "stdout",
     "output_type": "stream",
     "text": [
      "Hello World\n",
      "Hello World\n",
      "Hello World\n",
      "Hello World\n",
      "Hello World\n",
      "Hello World\n",
      "Hello World\n",
      "Hello World\n",
      "Hello World\n",
      "Hello World\n"
     ]
    }
   ],
   "source": [
    "#W2A21\n",
    "for i in range(0,10):\n",
    "    print(\"Hello World\")"
   ]
  }
 ],
 "metadata": {
  "kernelspec": {
   "display_name": "Python 3",
   "language": "python",
   "name": "python3"
  },
  "language_info": {
   "codemirror_mode": {
    "name": "ipython",
    "version": 3
   },
   "file_extension": ".py",
   "mimetype": "text/x-python",
   "name": "python",
   "nbconvert_exporter": "python",
   "pygments_lexer": "ipython3",
   "version": "3.13.7"
  }
 },
 "nbformat": 4,
 "nbformat_minor": 5
}
