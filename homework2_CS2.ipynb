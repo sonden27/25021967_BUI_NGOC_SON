{
 "cells": [
  {
   "cell_type": "code",
   "execution_count": 2,
   "id": "9e0b6860",
   "metadata": {},
   "outputs": [
    {
     "name": "stdout",
     "output_type": "stream",
     "text": [
      "56.0\n",
      "30.0\n"
     ]
    }
   ],
   "source": [
    "#HW1\n",
    "a,b=map(float,input().split())\n",
    "print(f'{a*b}\\n{a*2+b*2}')"
   ]
  },
  {
   "cell_type": "code",
   "execution_count": 5,
   "id": "0a76bca1",
   "metadata": {},
   "outputs": [
    {
     "name": "stdout",
     "output_type": "stream",
     "text": [
      "254.34\n",
      "56.52\n"
     ]
    }
   ],
   "source": [
    "#HW2\n",
    "r=float(input())\n",
    "print(f'{r*r*3.14}\\n{r*2*3.14}')"
   ]
  },
  {
   "cell_type": "code",
   "execution_count": null,
   "id": "647d2858",
   "metadata": {},
   "outputs": [
    {
     "name": "stdout",
     "output_type": "stream",
     "text": [
      "Tam giac vuong\n",
      "12.0\n",
      "6.0\n"
     ]
    }
   ],
   "source": [
    "#HW3\n",
    "import math as skibidi\n",
    "a,b,c=map(float,input().split())\n",
    "if(a+b>c and b+c>a and a+c>b):\n",
    "    if(a==b==c):\n",
    "        print(f'Tam giac deu')\n",
    "    elif(a==b!=c or a==c!=b or b==c!=a):\n",
    "        print(f'Tam giac can')\n",
    "    elif(a**2+b**2==c**2 or a**2+c**2==b**2 or b**2+c**2==a**2):\n",
    "        print(f'Tam giac vuong')\n",
    "    else:\n",
    "        print(f'Tam giac thuong')\n",
    "    p=(a+b+c)/2\n",
    "    print(f'{p*2}\\n{skibidi.sqrt(p*(p-a)*(p-b)*(p-c))}')\n",
    "else:\n",
    "    print(f'Khong la ba canh cua mot tam giac')"
   ]
  },
  {
   "cell_type": "code",
   "execution_count": 9,
   "id": "8e19261d",
   "metadata": {},
   "outputs": [
    {
     "name": "stdout",
     "output_type": "stream",
     "text": [
      "-1.0\n"
     ]
    }
   ],
   "source": [
    "#HW4\n",
    "a,b=map(float,input().split())\n",
    "if(a==0):\n",
    "    if(b==0):\n",
    "        print(f'Phuong trinh co vo so nghiem')\n",
    "    else:\n",
    "        print(f'Phuong trinh vo nghiem')\n",
    "else:\n",
    "    print(f'{-b/a}')\n"
   ]
  },
  {
   "cell_type": "code",
   "execution_count": 12,
   "id": "ce0aab3d",
   "metadata": {},
   "outputs": [
    {
     "name": "stdout",
     "output_type": "stream",
     "text": [
      "-0.5+0.8660254037844386i\n",
      "-0.5-0.8660254037844386i\n"
     ]
    }
   ],
   "source": [
    "#HW5\n",
    "import math\n",
    "a,b,c=map(float,input().split())\n",
    "if(a==0):\n",
    "    if(b==0):\n",
    "        if(c==0):\n",
    "            print(f'Phuong trinh co vo so nghiem')\n",
    "        else:\n",
    "            print(f'Phuong trinh vo nghiem')\n",
    "    else:\n",
    "        print(f'{-c/b}')\n",
    "else:\n",
    "    delta=b*b-4*a*c\n",
    "    if(delta>=0):\n",
    "        x1=(-b+math.sqrt(delta))/(2*a)\n",
    "        x2=(-b-math.sqrt(delta))/(2*a)\n",
    "        if(x1==x2):\n",
    "            print(x1)\n",
    "        else:\n",
    "            print(f'{x1}\\n{x2}')\n",
    "    else:\n",
    "        irr=-delta\n",
    "        print(f'{-b/(2*a)}+{math.sqrt(irr)/(2*a)}i')\n",
    "        print(f'{-b/(2*a)}-{math.sqrt(irr)/(2*a)}i')"
   ]
  },
  {
   "cell_type": "code",
   "execution_count": null,
   "id": "d94fad43",
   "metadata": {},
   "outputs": [
    {
     "name": "stdout",
     "output_type": "stream",
     "text": [
      "4.0\n"
     ]
    }
   ],
   "source": [
    "#HW6\n",
    "a,b,c,d=map(float,input().split())\n",
    "print(max(a,b,c,d))"
   ]
  },
  {
   "cell_type": "code",
   "execution_count": 14,
   "id": "7600a822",
   "metadata": {},
   "outputs": [
    {
     "name": "stdout",
     "output_type": "stream",
     "text": [
      "1.0\n"
     ]
    }
   ],
   "source": [
    "#HW7\n",
    "a,b,c,d=map(float,input().split())\n",
    "print(min(a,b,c,d))"
   ]
  },
  {
   "cell_type": "code",
   "execution_count": 18,
   "id": "3bf00044",
   "metadata": {},
   "outputs": [
    {
     "name": "stdout",
     "output_type": "stream",
     "text": [
      "x=1.0\n",
      "y=1.0\n"
     ]
    }
   ],
   "source": [
    "#HW8\n",
    "a,b,m,c,d,n=map(float,input().split())\n",
    "D=a*d-b*c\n",
    "Dx=m*d-b*n\n",
    "Dy=a*n-m*c\n",
    "if(D==0):\n",
    "    print(f'Phuong trinh vo nghiem hoac vo so nghiem')\n",
    "else:\n",
    "    print(f'x={Dx/D}\\ny={Dy/D}')"
   ]
  },
  {
   "cell_type": "code",
   "execution_count": 20,
   "id": "66fc48fa",
   "metadata": {},
   "outputs": [
    {
     "name": "stdout",
     "output_type": "stream",
     "text": [
      "1h 0p 1s\n"
     ]
    }
   ],
   "source": [
    "#HW9\n",
    "hrs=0\n",
    "minute=0\n",
    "sec=0\n",
    "x=int(input())\n",
    "if(x>=3600):\n",
    "    hrs=x//3600\n",
    "    x-=hrs*3600\n",
    "if(0<=x<3600):\n",
    "    min=x//60\n",
    "    x-=min*60\n",
    "sec=x\n",
    "print(f'{hrs}h {min}p {sec}s')"
   ]
  },
  {
   "cell_type": "code",
   "execution_count": 21,
   "id": "92fe2b6a",
   "metadata": {},
   "outputs": [
    {
     "name": "stdout",
     "output_type": "stream",
     "text": [
      "diem A(4.0,4.0) khong thuoc duong tron\n"
     ]
    }
   ],
   "source": [
    "#HW10\n",
    "x1,y1,r,x2,y2=map(float,input().split())\n",
    "d_sq=(x2-x1)*(x2-x1)+(y2-y1)*(y2-y1)\n",
    "if(r*r>=d_sq):\n",
    "    print(f'diem A({x2},{y2}) thuoc duong tron')\n",
    "else:\n",
    "    print(f'diem A({x2},{y2}) khong thuoc duong tron')"
   ]
  },
  {
   "cell_type": "code",
   "execution_count": 22,
   "id": "493db94b",
   "metadata": {},
   "outputs": [
    {
     "name": "stdout",
     "output_type": "stream",
     "text": [
      "531441.0\n"
     ]
    }
   ],
   "source": [
    "#HW11\n",
    "x,y=map(float,input().split())\n",
    "print(f'{x**y}')"
   ]
  }
 ],
 "metadata": {
  "kernelspec": {
   "display_name": "Python 3",
   "language": "python",
   "name": "python3"
  },
  "language_info": {
   "codemirror_mode": {
    "name": "ipython",
    "version": 3
   },
   "file_extension": ".py",
   "mimetype": "text/x-python",
   "name": "python",
   "nbconvert_exporter": "python",
   "pygments_lexer": "ipython3",
   "version": "3.13.7"
  }
 },
 "nbformat": 4,
 "nbformat_minor": 5
}
