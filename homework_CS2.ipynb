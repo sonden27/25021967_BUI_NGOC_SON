{
 "cells": [
  {
   "cell_type": "code",
   "execution_count": 1,
   "id": "33d8e3e7",
   "metadata": {},
   "outputs": [
    {
     "name": "stdout",
     "output_type": "stream",
     "text": [
      "6\n"
     ]
    }
   ],
   "source": [
    "#HW1\n",
    "i=int(input())\n",
    "print(i*2)"
   ]
  },
  {
   "cell_type": "code",
   "execution_count": 5,
   "id": "1801b8d2",
   "metadata": {},
   "outputs": [
    {
     "name": "stdout",
     "output_type": "stream",
     "text": [
      "23.06\n"
     ]
    }
   ],
   "source": [
    "#HW2\n",
    "a,b=map(float,input().split())\n",
    "print(f'{a*b-(a/2)**2*3.14:.2f}')"
   ]
  },
  {
   "cell_type": "code",
   "execution_count": null,
   "id": "f81232e4",
   "metadata": {},
   "outputs": [
    {
     "name": "stdout",
     "output_type": "stream",
     "text": [
      "a\n"
     ]
    }
   ],
   "source": [
    "#HW3\n",
    "#ord()\n",
    "#chr()\n",
    "#uppercase 65->90\n",
    "#lowercase 97->122\n",
    "c=input()\n",
    "if(65<=ord(c)<=90):\n",
    "    print(chr(ord(c)+32))\n",
    "else:\n",
    "    print(chr(ord(c)-32))"
   ]
  },
  {
   "cell_type": "code",
   "execution_count": 21,
   "id": "470f2497",
   "metadata": {},
   "outputs": [
    {
     "name": "stdout",
     "output_type": "stream",
     "text": [
      "% không phải là kí tự alphabet\n"
     ]
    }
   ],
   "source": [
    "#HW4\n",
    "c=input()\n",
    "if(65<=ord(c)<=90 or 97<=ord(c)<=122):\n",
    "    print(f'{c} là kí tu alphabet')\n",
    "else:\n",
    "    print(f'{c} không phải là kí tự alphabet')\n"
   ]
  },
  {
   "cell_type": "code",
   "execution_count": 31,
   "id": "b765c986",
   "metadata": {},
   "outputs": [
    {
     "name": "stdout",
     "output_type": "stream",
     "text": [
      "TH Đặc biệt\n"
     ]
    }
   ],
   "source": [
    "#HW5\n",
    "c=input()\n",
    "if(c==\"A\"):\n",
    "    print(\"TH Đặc biệt\")\n",
    "else:\n",
    "    print(chr(ord(c)+31))"
   ]
  },
  {
   "cell_type": "code",
   "execution_count": 34,
   "id": "f3312a47",
   "metadata": {},
   "outputs": [
    {
     "name": "stdout",
     "output_type": "stream",
     "text": [
      "6.0\n"
     ]
    }
   ],
   "source": [
    "#HW6\n",
    "import math\n",
    "a,b,c=map(float,input().split())\n",
    "if(a+b>c and a+c>b and b+c>a):\n",
    "    p=(a+b+c)/2\n",
    "    res=math.sqrt(p*(p-a)*(p-b)*(p-c))\n",
    "    print(f'{res:.1f}')\n",
    "else:\n",
    "    print(\"Khong phai 3 canh cua tam giac\")"
   ]
  },
  {
   "cell_type": "code",
   "execution_count": null,
   "id": "8a966fbb",
   "metadata": {},
   "outputs": [
    {
     "name": "stdout",
     "output_type": "stream",
     "text": [
      "e i\n"
     ]
    }
   ],
   "source": [
    "#HW7\n",
    "s=input()\n",
    "print(f'{s[4]} {s[8]}')"
   ]
  },
  {
   "cell_type": "code",
   "execution_count": null,
   "id": "f66b9602",
   "metadata": {},
   "outputs": [
    {
     "name": "stdout",
     "output_type": "stream",
     "text": [
      "Ho va ten: Pham Xuan Toai\n",
      "Tien phai tra la: 107136\n"
     ]
    }
   ],
   "source": [
    "#HW8\n",
    "inp1=input()\n",
    "inp2=input()\n",
    "inp3=input()\n",
    "bo,fullname=inp1.split(\": \")\n",
    "bo,num1=inp2.split(\": \")\n",
    "bo,num2=inp3.split(\": \")\n",
    "num1=int(num1)\n",
    "num2=int(num2)\n",
    "cost=[1984,2050,2380,2998,3350,3460]\n",
    "stage=[50,50,100,100,100,0]\n",
    "res=0\n",
    "num=num2-num1\n",
    "count=0\n",
    "stage[5]=num\n",
    "while(num>0):\n",
    "    if(num<stage[count]):\n",
    "        res+=num*cost[count]\n",
    "        num=0\n",
    "    else:\n",
    "        res+=stage[count]*cost[count]\n",
    "        num-=stage[count]\n",
    "        if(count<5):\n",
    "            count+=1\n",
    "print(f'Ho va ten: {fullname}\\nTien phai tra la: {res*1.08:.0f}')"
   ]
  },
  {
   "cell_type": "code",
   "execution_count": null,
   "id": "2496add7",
   "metadata": {},
   "outputs": [],
   "source": [
    "#Một số bài tập khác"
   ]
  },
  {
   "cell_type": "code",
   "execution_count": 23,
   "id": "1a40777d",
   "metadata": {},
   "outputs": [
    {
     "name": "stdout",
     "output_type": "stream",
     "text": [
      "Even\n"
     ]
    }
   ],
   "source": [
    "#BT1\n",
    "a=int(input())\n",
    "print(\"Odd\")if a%2 else print(\"Even\")"
   ]
  },
  {
   "cell_type": "code",
   "execution_count": 27,
   "id": "8dc5216a",
   "metadata": {},
   "outputs": [
    {
     "name": "stdout",
     "output_type": "stream",
     "text": [
      "True\n"
     ]
    }
   ],
   "source": [
    "#BT2\n",
    "x=int(input())\n",
    "print(x%10==5)"
   ]
  },
  {
   "cell_type": "code",
   "execution_count": 5,
   "id": "243870d3",
   "metadata": {},
   "outputs": [
    {
     "name": "stdout",
     "output_type": "stream",
     "text": [
      "True\n"
     ]
    }
   ],
   "source": [
    "#BT3\n",
    "x=int(input())\n",
    "print(x%15==0)"
   ]
  },
  {
   "cell_type": "code",
   "execution_count": 7,
   "id": "7f9618c9",
   "metadata": {},
   "outputs": [
    {
     "name": "stdout",
     "output_type": "stream",
     "text": [
      "False\n"
     ]
    }
   ],
   "source": [
    "#BT4\n",
    "x=int(input())\n",
    "print(x>=18)"
   ]
  },
  {
   "cell_type": "code",
   "execution_count": 10,
   "id": "f5480c21",
   "metadata": {},
   "outputs": [
    {
     "name": "stdout",
     "output_type": "stream",
     "text": [
      "7\n"
     ]
    }
   ],
   "source": [
    "#BT5\n",
    "a,b=map(int,input().split())\n",
    "if(a>b):\n",
    "    print(a)\n",
    "elif (a<b):\n",
    "    print(b)\n",
    "else:\n",
    "    print(f'Hai số bằng nhau')"
   ]
  },
  {
   "cell_type": "code",
   "execution_count": null,
   "id": "237eafb2",
   "metadata": {},
   "outputs": [],
   "source": [
    "#BT6\n",
    "x=input()\n",
    "if('a'<=x<='z' or 'A'<=x<='Z'):\n",
    "    print(f'Chữ cái')\n",
    "else:\n",
    "    print(f'Số')"
   ]
  },
  {
   "cell_type": "code",
   "execution_count": 11,
   "id": "6dbadeb5",
   "metadata": {},
   "outputs": [
    {
     "name": "stdout",
     "output_type": "stream",
     "text": [
      "Giỏi\n"
     ]
    }
   ],
   "source": [
    "#BT7\n",
    "x=int(input())\n",
    "if(x<5):\n",
    "    print(f'Yếu')\n",
    "elif(x<6.5):\n",
    "    print(f'Trung bình')\n",
    "elif(x<8):\n",
    "    print(f'Khá')\n",
    "else:\n",
    "    print(f'Giỏi')"
   ]
  },
  {
   "cell_type": "code",
   "execution_count": 15,
   "id": "3101aeb9",
   "metadata": {},
   "outputs": [
    {
     "name": "stdout",
     "output_type": "stream",
     "text": [
      "True\n"
     ]
    }
   ],
   "source": [
    "#BT8\n",
    "x=int(input())\n",
    "print(x%400==0)"
   ]
  },
  {
   "cell_type": "code",
   "execution_count": 17,
   "id": "3c9d89ca",
   "metadata": {},
   "outputs": [
    {
     "name": "stdout",
     "output_type": "stream",
     "text": [
      "Chín\n"
     ]
    }
   ],
   "source": [
    "#BT9\n",
    "A=[\"Không\",\"Một\",\"Hai\",\"Ba\",\"Bốn\",\"Năm\",\"Sáu\",\"Bảy\",\"Tám\",\"Chín\"]\n",
    "x=int(input())\n",
    "print(A[x])"
   ]
  },
  {
   "cell_type": "code",
   "execution_count": 20,
   "id": "42ffcb4a",
   "metadata": {},
   "outputs": [
    {
     "name": "stdout",
     "output_type": "stream",
     "text": [
      "Qua môn\n"
     ]
    }
   ],
   "source": [
    "#BT10\n",
    "x=int(input())\n",
    "print(f'Qua môn') if x>=4 else print(f'Học lại')"
   ]
  },
  {
   "cell_type": "code",
   "execution_count": null,
   "id": "13521a7d",
   "metadata": {},
   "outputs": [
    {
     "name": "stdout",
     "output_type": "stream",
     "text": [
      "True\n"
     ]
    },
    {
     "ename": "",
     "evalue": "",
     "output_type": "error",
     "traceback": [
      "\u001b[1;31mThe Kernel crashed while executing code in the current cell or a previous cell. \n",
      "\u001b[1;31mPlease review the code in the cell(s) to identify a possible cause of the failure. \n",
      "\u001b[1;31mClick <a href='https://aka.ms/vscodeJupyterKernelCrash'>here</a> for more info. \n",
      "\u001b[1;31mView Jupyter <a href='command:jupyter.viewOutput'>log</a> for further details."
     ]
    }
   ],
   "source": [
    "#BT11\n",
    "year=int(input())\n",
    "print(2025-year>=18)"
   ]
  }
 ],
 "metadata": {
  "kernelspec": {
   "display_name": "Python 3",
   "language": "python",
   "name": "python3"
  },
  "language_info": {
   "codemirror_mode": {
    "name": "ipython",
    "version": 3
   },
   "file_extension": ".py",
   "mimetype": "text/x-python",
   "name": "python",
   "nbconvert_exporter": "python",
   "pygments_lexer": "ipython3",
   "version": "3.13.7"
  }
 },
 "nbformat": 4,
 "nbformat_minor": 5
}
