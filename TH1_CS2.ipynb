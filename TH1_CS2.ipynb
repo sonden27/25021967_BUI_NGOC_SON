{
 "cells": [
  {
   "cell_type": "code",
   "execution_count": 10,
   "id": "651f3e6d",
   "metadata": {},
   "outputs": [
    {
     "name": "stdout",
     "output_type": "stream",
     "text": [
      "2\n"
     ]
    }
   ],
   "source": [
    "#W1A1\n",
    "a = 7\n",
    "b = 5\n",
    "c = a - b\n",
    "print(c)"
   ]
  },
  {
   "cell_type": "code",
   "execution_count": 11,
   "id": "a4599f09",
   "metadata": {},
   "outputs": [
    {
     "name": "stdout",
     "output_type": "stream",
     "text": [
      "Thành phố:  Hà Nội  - Năm:  2025\n"
     ]
    }
   ],
   "source": [
    "#W1A2\n",
    "city = \"Hà Nội\"\n",
    "year = 2025\n",
    "print(\"Thành phố: \", city, \" - Năm: \", year) \n"
   ]
  },
  {
   "cell_type": "code",
   "execution_count": 12,
   "id": "29bb4730",
   "metadata": {},
   "outputs": [
    {
     "name": "stdout",
     "output_type": "stream",
     "text": [
      "10\n"
     ]
    }
   ],
   "source": [
    "#W1A3\n",
    "n = 4\n",
    "t = 0\n",
    "for i in range(1, n+1):\n",
    "    t += i\n",
    "print(t) \n"
   ]
  },
  {
   "cell_type": "code",
   "execution_count": 15,
   "id": "312ab8f7",
   "metadata": {},
   "outputs": [
    {
     "name": "stdout",
     "output_type": "stream",
     "text": [
      "1 là số lẻ\n",
      "2 là số chẵn\n",
      "3 là số lẻ\n",
      "4 là số chẵn\n"
     ]
    }
   ],
   "source": [
    "#W1A4\n",
    "numbers = [1, 2, 3, 4]\n",
    "for x in numbers:\n",
    "    if x % 2 == 0:\n",
    "        print(x, \"là số chẵn\")\n",
    "    else:\n",
    "        print(x, \"là số lẻ\") \n"
   ]
  },
  {
   "cell_type": "code",
   "execution_count": 18,
   "id": "2fc859b4",
   "metadata": {},
   "outputs": [
    {
     "name": "stdout",
     "output_type": "stream",
     "text": [
      "Số phần tử trong danh sách là: 4\n"
     ]
    }
   ],
   "source": [
    "#W1A5\n",
    "animals = [\"cat\", \"dog\", \"cat\", \"bird\"]\n",
    "count = 0\n",
    "for a in animals:\n",
    "    count += 1\n",
    "print(\"Số phần tử trong danh sách là:\", count)\n"
   ]
  },
  {
   "cell_type": "code",
   "execution_count": 1,
   "id": "0aad4429",
   "metadata": {},
   "outputs": [
    {
     "name": "stdout",
     "output_type": "stream",
     "text": [
      "\n",
      "=== AI Prediction System ===\n",
      "1) Sentiment analysis\n",
      "2) Weather forecast\n",
      "3) Exit\n",
      "Đã thoát khỏi chương trình.\n"
     ]
    }
   ],
   "source": [
    "#W1A6\n",
    "import sys\n",
    "def sentiment_analysis():\n",
    "    print(\"Đang chạy chức năng Phân tích cảm xúc...\")\n",
    "\n",
    "\n",
    "def weather_forecast():\n",
    "    print(\"Đang chạy chức năng Dự báo thời tiết...\")\n",
    "\n",
    "\n",
    "def display_menu():\n",
    "    print(\"\\n=== AI Prediction System ===\")\n",
    "    print(\"1) Sentiment analysis\")\n",
    "    print(\"2) Weather forecast\")\n",
    "    print(\"3) Exit\")\n",
    "\n",
    "while True:\n",
    "    display_menu()\n",
    "    choice = input(\"Vui lòng chọn một tùy chọn: \")\n",
    "\n",
    "    if choice == '1':\n",
    "        sentiment_analysis()\n",
    "    elif choice == '2':\n",
    "        weather_forecast()\n",
    "    elif choice == '3':\n",
    "        print(\"Đã thoát khỏi chương trình.\")\n",
    "        break\n",
    "        sys.exit()\n",
    "    else:\n",
    "        print(\"Lựa chọn không hợp lệ. Vui lòng thử lại.\")"
   ]
  },
  {
   "cell_type": "code",
   "execution_count": 2,
   "id": "215e4048",
   "metadata": {},
   "outputs": [
    {
     "name": "stdout",
     "output_type": "stream",
     "text": [
      "Số chẵn\n"
     ]
    }
   ],
   "source": [
    "#W1A7\n",
    "num = int(input(\"Nhập số: \"))\n",
    "if num % 2 == 0:\n",
    "    print(\"Số chẵn\")\n",
    "else:\n",
    "    print(\"Số lẻ\") "
   ]
  },
  {
   "cell_type": "code",
   "execution_count": 3,
   "id": "d670a60b",
   "metadata": {},
   "outputs": [
    {
     "name": "stdout",
     "output_type": "stream",
     "text": [
      "AI đang học lần 1\n",
      "AI đang học lần 2\n",
      "AI đang học lần 3\n",
      "Huấn luyện xong!\n"
     ]
    }
   ],
   "source": [
    "#W1A8\n",
    "for i in range(3):\n",
    "    print(\"AI đang học lần\", i + 1)\n",
    "print(\"Huấn luyện xong!\") "
   ]
  },
  {
   "cell_type": "code",
   "execution_count": 4,
   "id": "1a7e9f64",
   "metadata": {},
   "outputs": [
    {
     "name": "stdout",
     "output_type": "stream",
     "text": [
      "Dự đoán con vật: cat\n",
      "Dự đoán con vật: dog\n",
      "Dự đoán con vật: fish\n"
     ]
    }
   ],
   "source": [
    "#W1A9\n",
    "for x in [\"cat\", \"dog\", \"fish\"]:\n",
    "    print(\"Dự đoán con vật:\", x) "
   ]
  },
  {
   "cell_type": "code",
   "execution_count": 5,
   "id": "8d963a69",
   "metadata": {},
   "outputs": [
    {
     "name": "stdout",
     "output_type": "stream",
     "text": [
      "=== AI Prediction System ===\n",
      "1) Sentiment analysis\n",
      "2) Weather forecast\n",
      "3) Exit\n",
      "Please choose an option:\n"
     ]
    }
   ],
   "source": [
    "#W1A10\n",
    "# Simple menu\n",
    "print(\"=== AI Prediction System ===\")\n",
    "print(\"1) Sentiment analysis\")\n",
    "print(\"2) Weather forecast\")\n",
    "print('3) Exit')\n",
    "print(\"Please choose an option:\") \n"
   ]
  }
 ],
 "metadata": {
  "kernelspec": {
   "display_name": "Python 3",
   "language": "python",
   "name": "python3"
  },
  "language_info": {
   "codemirror_mode": {
    "name": "ipython",
    "version": 3
   },
   "file_extension": ".py",
   "mimetype": "text/x-python",
   "name": "python",
   "nbconvert_exporter": "python",
   "pygments_lexer": "ipython3",
   "version": "3.13.7"
  }
 },
 "nbformat": 4,
 "nbformat_minor": 5
}
